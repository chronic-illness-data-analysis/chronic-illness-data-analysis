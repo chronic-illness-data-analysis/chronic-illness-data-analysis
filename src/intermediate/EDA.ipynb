{
 "cells": [
  {
   "cell_type": "code",
   "execution_count": 1,
   "metadata": {},
   "outputs": [],
   "source": [
    "\n",
    "import pandas as pd\n",
    "import numpy as np\n",
    "import seaborn as sns\n",
    "import matplotlib.pyplot as plt"
   ]
  },
  {
   "cell_type": "code",
   "execution_count": 2,
   "metadata": {},
   "outputs": [
    {
     "name": "stderr",
     "output_type": "stream",
     "text": [
      "/home/shibin/softwares/anaconda2/envs/nlpproject/lib/python3.8/site-packages/IPython/core/interactiveshell.py:3057: DtypeWarning: Columns (5) have mixed types. Specify dtype option on import or set low_memory=False.\n",
      "  has_raised = await self.run_ast_nodes(code_ast.body, cell_name,\n"
     ]
    },
    {
     "name": "stdout",
     "output_type": "stream",
     "text": [
      "Valid users with norma age = 20456, Percentage 0.9268270581305786\n"
     ]
    },
    {
     "data": {
      "text/html": [
       "<div>\n",
       "<style scoped>\n",
       "    .dataframe tbody tr th:only-of-type {\n",
       "        vertical-align: middle;\n",
       "    }\n",
       "\n",
       "    .dataframe tbody tr th {\n",
       "        vertical-align: top;\n",
       "    }\n",
       "\n",
       "    .dataframe thead th {\n",
       "        text-align: right;\n",
       "    }\n",
       "</style>\n",
       "<table border=\"1\" class=\"dataframe\">\n",
       "  <thead>\n",
       "    <tr style=\"text-align: right;\">\n",
       "      <th></th>\n",
       "      <th>user_id</th>\n",
       "      <th>age</th>\n",
       "      <th>sex</th>\n",
       "      <th>country</th>\n",
       "      <th>checkin_date</th>\n",
       "      <th>trackable_id</th>\n",
       "      <th>trackable_type</th>\n",
       "      <th>trackable_name</th>\n",
       "      <th>trackable_value</th>\n",
       "    </tr>\n",
       "  </thead>\n",
       "  <tbody>\n",
       "    <tr>\n",
       "      <th>1</th>\n",
       "      <td>QEVuQwEAWRNGnuTRqXG2996KSkTIEw==</td>\n",
       "      <td>31.0</td>\n",
       "      <td>male</td>\n",
       "      <td>US</td>\n",
       "      <td>2015-11-26</td>\n",
       "      <td>1069</td>\n",
       "      <td>Condition</td>\n",
       "      <td>Ulcerative colitis</td>\n",
       "      <td>0</td>\n",
       "    </tr>\n",
       "    <tr>\n",
       "      <th>2</th>\n",
       "      <td>QEVuQwEA+WkNxtp/qkHvN2YmTBBDqg==</td>\n",
       "      <td>1.0</td>\n",
       "      <td>female</td>\n",
       "      <td>CA</td>\n",
       "      <td>2017-04-28</td>\n",
       "      <td>3168</td>\n",
       "      <td>Condition</td>\n",
       "      <td>pain in left upper arm felt like i was getting...</td>\n",
       "      <td>4</td>\n",
       "    </tr>\n",
       "    <tr>\n",
       "      <th>3</th>\n",
       "      <td>QEVuQwEA+WkNxtp/qkHvN2YmTBBDqg==</td>\n",
       "      <td>1.0</td>\n",
       "      <td>female</td>\n",
       "      <td>CA</td>\n",
       "      <td>2017-04-28</td>\n",
       "      <td>3169</td>\n",
       "      <td>Condition</td>\n",
       "      <td>hip pain when gettin up</td>\n",
       "      <td>3</td>\n",
       "    </tr>\n",
       "    <tr>\n",
       "      <th>4</th>\n",
       "      <td>QEVuQwEA+WkNxtp/qkHvN2YmTBBDqg==</td>\n",
       "      <td>1.0</td>\n",
       "      <td>female</td>\n",
       "      <td>CA</td>\n",
       "      <td>2017-04-28</td>\n",
       "      <td>3170</td>\n",
       "      <td>Condition</td>\n",
       "      <td>pain in hand joints</td>\n",
       "      <td>4</td>\n",
       "    </tr>\n",
       "    <tr>\n",
       "      <th>5</th>\n",
       "      <td>QEVuQwEA+WkNxtp/qkHvN2YmTBBDqg==</td>\n",
       "      <td>1.0</td>\n",
       "      <td>female</td>\n",
       "      <td>CA</td>\n",
       "      <td>2017-04-28</td>\n",
       "      <td>3171</td>\n",
       "      <td>Condition</td>\n",
       "      <td>numbness in right hand</td>\n",
       "      <td>2</td>\n",
       "    </tr>\n",
       "    <tr>\n",
       "      <th>6</th>\n",
       "      <td>QEVuQwEA+WkNxtp/qkHvN2YmTBBDqg==</td>\n",
       "      <td>1.0</td>\n",
       "      <td>female</td>\n",
       "      <td>CA</td>\n",
       "      <td>2017-04-28</td>\n",
       "      <td>1356</td>\n",
       "      <td>Condition</td>\n",
       "      <td>Headache</td>\n",
       "      <td>2</td>\n",
       "    </tr>\n",
       "    <tr>\n",
       "      <th>7</th>\n",
       "      <td>QEVuQwEA+WkNxtp/qkHvN2YmTBBDqg==</td>\n",
       "      <td>1.0</td>\n",
       "      <td>female</td>\n",
       "      <td>CA</td>\n",
       "      <td>2017-04-28</td>\n",
       "      <td>3172</td>\n",
       "      <td>Condition</td>\n",
       "      <td>pain in left ankle</td>\n",
       "      <td>1</td>\n",
       "    </tr>\n",
       "    <tr>\n",
       "      <th>8</th>\n",
       "      <td>QEVuQwEA+WkNxtp/qkHvN2YmTBBDqg==</td>\n",
       "      <td>1.0</td>\n",
       "      <td>female</td>\n",
       "      <td>CA</td>\n",
       "      <td>2017-04-28</td>\n",
       "      <td>3173</td>\n",
       "      <td>Condition</td>\n",
       "      <td>pain in left leg</td>\n",
       "      <td>1</td>\n",
       "    </tr>\n",
       "    <tr>\n",
       "      <th>9</th>\n",
       "      <td>QEVuQwEA+WkNxtp/qkHvN2YmTBBDqg==</td>\n",
       "      <td>1.0</td>\n",
       "      <td>female</td>\n",
       "      <td>CA</td>\n",
       "      <td>2017-04-28</td>\n",
       "      <td>3174</td>\n",
       "      <td>Condition</td>\n",
       "      <td>pain in joints on feet</td>\n",
       "      <td>2</td>\n",
       "    </tr>\n",
       "    <tr>\n",
       "      <th>10</th>\n",
       "      <td>QEVuQwEA+WkNxtp/qkHvN2YmTBBDqg==</td>\n",
       "      <td>1.0</td>\n",
       "      <td>female</td>\n",
       "      <td>CA</td>\n",
       "      <td>2017-04-28</td>\n",
       "      <td>3175</td>\n",
       "      <td>Condition</td>\n",
       "      <td>neck and upper back pain</td>\n",
       "      <td>2</td>\n",
       "    </tr>\n",
       "  </tbody>\n",
       "</table>\n",
       "</div>"
      ],
      "text/plain": [
       "                             user_id   age     sex country checkin_date  \\\n",
       "1   QEVuQwEAWRNGnuTRqXG2996KSkTIEw==  31.0    male      US   2015-11-26   \n",
       "2   QEVuQwEA+WkNxtp/qkHvN2YmTBBDqg==   1.0  female      CA   2017-04-28   \n",
       "3   QEVuQwEA+WkNxtp/qkHvN2YmTBBDqg==   1.0  female      CA   2017-04-28   \n",
       "4   QEVuQwEA+WkNxtp/qkHvN2YmTBBDqg==   1.0  female      CA   2017-04-28   \n",
       "5   QEVuQwEA+WkNxtp/qkHvN2YmTBBDqg==   1.0  female      CA   2017-04-28   \n",
       "6   QEVuQwEA+WkNxtp/qkHvN2YmTBBDqg==   1.0  female      CA   2017-04-28   \n",
       "7   QEVuQwEA+WkNxtp/qkHvN2YmTBBDqg==   1.0  female      CA   2017-04-28   \n",
       "8   QEVuQwEA+WkNxtp/qkHvN2YmTBBDqg==   1.0  female      CA   2017-04-28   \n",
       "9   QEVuQwEA+WkNxtp/qkHvN2YmTBBDqg==   1.0  female      CA   2017-04-28   \n",
       "10  QEVuQwEA+WkNxtp/qkHvN2YmTBBDqg==   1.0  female      CA   2017-04-28   \n",
       "\n",
       "   trackable_id trackable_type  \\\n",
       "1          1069      Condition   \n",
       "2          3168      Condition   \n",
       "3          3169      Condition   \n",
       "4          3170      Condition   \n",
       "5          3171      Condition   \n",
       "6          1356      Condition   \n",
       "7          3172      Condition   \n",
       "8          3173      Condition   \n",
       "9          3174      Condition   \n",
       "10         3175      Condition   \n",
       "\n",
       "                                       trackable_name trackable_value  \n",
       "1                                  Ulcerative colitis               0  \n",
       "2   pain in left upper arm felt like i was getting...               4  \n",
       "3                             hip pain when gettin up               3  \n",
       "4                                 pain in hand joints               4  \n",
       "5                              numbness in right hand               2  \n",
       "6                                            Headache               2  \n",
       "7                                  pain in left ankle               1  \n",
       "8                                    pain in left leg               1  \n",
       "9                              pain in joints on feet               2  \n",
       "10                           neck and upper back pain               2  "
      ]
     },
     "execution_count": 2,
     "metadata": {},
     "output_type": "execute_result"
    }
   ],
   "source": [
    "file_name = '../../data/fd-export.csv'\n",
    "\n",
    "## read file\n",
    "df = pd.read_csv(file_name)\n",
    "cond_file_name = '../../data/conditions_list.csv'\n",
    "df_conditions = pd.read_csv(cond_file_name)\n",
    "\"\"\"\n",
    "    Function to remove abnormal age.\n",
    "    This is required for reusability purpose.\n",
    "    \n",
    "    @Input : dataframe\n",
    "    @Return : dataframe\n",
    "\"\"\"\n",
    "def remove_abnormal_age(df):\n",
    "    df.age = df.age.fillna(-1)\n",
    "    invalid_ids = set(df[ (df.age<0) | (df.age > 100) ].user_id.values)\n",
    "    valid_df = df[~df.user_id.isin(invalid_ids)]\n",
    "    \n",
    "    print(\"Valid users with norma age = {}, Percentage {}\".format( valid_df.user_id.unique().shape[0]\n",
    "                                                                  , valid_df.user_id.unique().shape[0]/\n",
    "                                                               float( df.user_id.unique().shape[0] ) ))\n",
    "    \n",
    "    return valid_df\n",
    "\n",
    "## filter the user\n",
    "df_processed = remove_abnormal_age(df)\n",
    "\n",
    "df_processed.head(10)\n",
    "    "
   ]
  },
  {
   "cell_type": "code",
   "execution_count": 3,
   "metadata": {},
   "outputs": [
    {
     "name": "stderr",
     "output_type": "stream",
     "text": [
      "<ipython-input-3-ebc577838676>:11: RuntimeWarning: Mean of empty slice.\n",
      "  mean_ratings.append(ratings.values.mean())\n",
      "/home/shibin/softwares/anaconda2/envs/nlpproject/lib/python3.8/site-packages/numpy/core/_methods.py:161: RuntimeWarning: invalid value encountered in double_scalars\n",
      "  ret = ret.dtype.type(ret / rcount)\n",
      "/home/shibin/softwares/anaconda2/envs/nlpproject/lib/python3.8/site-packages/pandas/plotting/_matplotlib/converter.py:103: FutureWarning: Using an implicitly registered datetime converter for a matplotlib plotting method. The converter was registered by pandas on import. Future versions of pandas will require you to explicitly register matplotlib converters.\n",
      "\n",
      "To register the converters:\n",
      "\t>>> from pandas.plotting import register_matplotlib_converters\n",
      "\t>>> register_matplotlib_converters()\n",
      "  warnings.warn(msg, FutureWarning)\n"
     ]
    },
    {
     "data": {
      "text/plain": [
       "[<matplotlib.lines.Line2D at 0x7f4a3a134d60>]"
      ]
     },
     "execution_count": 3,
     "metadata": {},
     "output_type": "execute_result"
    },
    {
     "data": {
      "image/png": "[encoded data removed]",
      "text/plain": [
       "<Figure size 432x288 with 1 Axes>"
      ]
     },
     "metadata": {
      "needs_background": "light"
     },
     "output_type": "display_data"
    }
   ],
   "source": [
    "## convert time\n",
    "df['checkin_date'] = pd.to_datetime(df['checkin_date'])\n",
    "crohns_df = df\n",
    "import matplotlib.pyplot as plt\n",
    "dates = list(set(crohns_df['checkin_date']))\n",
    "dates.sort()\n",
    "mean_ratings = []\n",
    "for date in dates:\n",
    "    date_df = crohns_df[crohns_df['checkin_date'] == date]\n",
    "    ratings = pd.to_numeric(date_df[date_df['trackable_name'] == 'Crohn\\'s disease']['trackable_value'])\n",
    "    mean_ratings.append(ratings.values.mean())\n",
    "plt.plot(dates,mean_ratings)"
   ]
  },
  {
   "cell_type": "code",
   "execution_count": 4,
   "metadata": {},
   "outputs": [
    {
     "name": "stdout",
     "output_type": "stream",
     "text": [
      "[1.7850705859601625, 1.7390626973767316, 1.6366230835600983, 1.649900821762539, 1.661167993932499, 1.6514856834143705, 1.7206338000549084, 1.8315618166098764, 1.8564699016174755, 1.7982441330406889, 1.7249553120385481, 1.7087938724064378]\n"
     ]
    },
    {
     "data": {
      "text/plain": [
       "([0, 1, 2, 3, 4, 5, 6, 7, 8, 9, 10, 11],\n",
       " <a list of 12 Text xticklabel objects>)"
      ]
     },
     "execution_count": 4,
     "metadata": {},
     "output_type": "execute_result"
    },
    {
     "data": {
      "image/png": "[encoded data removed]",
      "text/plain": [
       "<Figure size 432x288 with 1 Axes>"
      ]
     },
     "metadata": {
      "needs_background": "light"
     },
     "output_type": "display_data"
    }
   ],
   "source": [
    "## chrnoic disease by month\n",
    "\n",
    "\n",
    "## convert time\n",
    "\n",
    "crohns_df['month'] = crohns_df['checkin_date'].map( lambda x: x.month) \n",
    "import matplotlib.pyplot as plt\n",
    "dates = [x+1 for x in range(12)]\n",
    "months = ['January', 'February', 'March', 'April', 'May', 'June', 'July',\n",
    "          'August', 'September', 'October', 'November', 'December']\n",
    "dates.sort()\n",
    "mean_ratings = []\n",
    "for date in dates:\n",
    "    date_df = crohns_df[crohns_df['month'] == date]\n",
    "    ratings = pd.to_numeric(date_df[ (date_df['trackable_type'] == 'Condition') & (date_df.country =='US') ]['trackable_value'])\n",
    "    mean_ratings.append(ratings.values.mean())\n",
    "print(mean_ratings)\n",
    "plt.plot(months,mean_ratings)\n",
    "plt.xticks(rotation = 90)"
   ]
  },
  {
   "cell_type": "code",
   "execution_count": 5,
   "metadata": {},
   "outputs": [
    {
     "data": {
      "image/png": "[encoded data removed]",
      "text/plain": [
       "<Figure size 432x288 with 2 Axes>"
      ]
     },
     "metadata": {
      "needs_background": "light"
     },
     "output_type": "display_data"
    }
   ],
   "source": [
    "\n",
    "avg_us_temp = [0.09,1.95,5.96,9.46,18.62,21.97,24.14,23.06,19.74,12.06,4.46,1.96]\n",
    "crohns_df['month'] = crohns_df['checkin_date'].map( lambda x: x.month) \n",
    "import matplotlib.pyplot as plt\n",
    "dates = [x+1 for x in range(12)]\n",
    "months = ['January', 'February', 'March', 'April', 'May', 'June', 'July',\n",
    "          'August', 'September', 'October', 'November', 'December']\n",
    "dates.sort()\n",
    "mean_ratings = []\n",
    "for date in dates:\n",
    "    date_df = crohns_df[crohns_df['month'] == date]\n",
    "    ratings = pd.to_numeric(date_df[ (date_df['trackable_type'] == 'Condition')  ]['trackable_value'])\n",
    "    mean_ratings.append(ratings.values.mean())\n",
    "# ax1 = plt.plot(months,mean_ratings)\n",
    "# ax2 = ax1.twinx()\n",
    "# ax2.plot(months, avg_us_temp)\n",
    "# plt.xticks(rotation = 90)\n",
    "\n",
    "temp_temp = [avg_us_temp[-1]] + avg_us_temp\n",
    "diff_temp = [ abs(temp_temp[i] - temp_temp[i-1])/(temp_temp[i] - temp_temp[i-1]) for i in range(1, 13)]\n",
    "\n",
    "\n",
    "fig, ax1 = plt.subplots()\n",
    "\n",
    "color = 'tab:red'\n",
    "ax1.set_xlabel('Month')\n",
    "ax1.set_ylabel('Severity', color=color)\n",
    "ax1.plot(months, mean_ratings, color=color)\n",
    "ax1.tick_params(axis='y', labelcolor=color)\n",
    "\n",
    "ax2 = ax1.twinx()  # instantiate a second axes that shares the same x-axis\n",
    "\n",
    "color = 'tab:blue'\n",
    "ax2.set_ylabel('Weather', color=color)  # we already handled the x-label with ax1\n",
    "ax2.plot(months, diff_temp , color=color)\n",
    "ax2.tick_params(axis='y', labelcolor=color)\n",
    "fig.autofmt_xdate()\n",
    "fig.tight_layout()  # otherwise the right y-label is slightly clipped\n",
    "plt.show()"
   ]
  },
  {
   "cell_type": "code",
   "execution_count": 6,
   "metadata": {},
   "outputs": [
    {
     "data": {
      "text/plain": [
       "array(['Condition', 'Symptom', 'Weather', 'Treatment', 'Tag', 'Food',\n",
       "       'HBI'], dtype=object)"
      ]
     },
     "execution_count": 6,
     "metadata": {},
     "output_type": "execute_result"
    }
   ],
   "source": [
    "df.trackable_type.unique()"
   ]
  },
  {
   "cell_type": "code",
   "execution_count": 41,
   "metadata": {},
   "outputs": [],
   "source": [
    "## find symptoms with dieseas\n",
    "# df.trackable_value = df.trackable_value.fillna(\"\")\n",
    "df.trackable_name = df.trackable_name.map(lambda x: x.lower()) \n",
    "\n",
    "df_with_treamnet = df[ (df.trackable_type == 'Treatment') & (df.trackable_name.str.contains('fludrocortisone') ) ].user_id.unique()\n",
    "df_with_symptoms_nausea = df[ (df.trackable_type == 'Symptom') & (df.trackable_name.str.contains('nausea') ) ].user_id.unique()\n",
    "\n",
    "df_inter_nausea = len( set(df_with_treamnet).intersection(set(df_with_symptoms_nausea)))"
   ]
  },
  {
   "cell_type": "code",
   "execution_count": 51,
   "metadata": {},
   "outputs": [],
   "source": [
    "\n",
    "\n",
    "df_with_symptom_headache = df[ (df.trackable_type == 'Symptom') & (df.trackable_name.str.contains('headache') ) ].user_id.unique()\n",
    "\n",
    "df_inter_headache_inter = len( set(df_with_treamnet).intersection(set(df_with_symptom_headache).difference(set(df_with_treamnet).intersection(set(df_with_symptoms_nausea)))))\n",
    "df_inter_headache = len( set(df_with_treamnet).intersection(set(df_with_symptom_headache)))"
   ]
  },
  {
   "cell_type": "code",
   "execution_count": 52,
   "metadata": {},
   "outputs": [
    {
     "name": "stdout",
     "output_type": "stream",
     "text": [
      "31\n",
      "34\n",
      "12\n",
      "62\n"
     ]
    }
   ],
   "source": [
    "print(df_inter_headache)\n",
    "print(df_inter_nausea)\n",
    "print(df_inter_headache_inter)\n",
    "print(len(df_with_treamnet))\n",
    "\n"
   ]
  },
  {
   "cell_type": "code",
   "execution_count": 35,
   "metadata": {},
   "outputs": [
    {
     "data": {
      "text/plain": [
       "array(['QEVuQwEAbymsqXo6/YiPKLE/okTHVw==',\n",
       "       'QEVuQwEAiK7g4vl5WtmLnaj7YOUdJQ==',\n",
       "       'QEVuQwEA+u/l0/4M1Rt9s+FdDEAj+Q==',\n",
       "       'QEVuQwEACjjNShW3fFdW3Uk1b+sG+A==',\n",
       "       'QEVuQwEAgHLD0d4XVwDA/zjy5AlWOQ==',\n",
       "       'QEVuQwEAr8nO6PWOADP/WjkJchrNqg==',\n",
       "       'QEVuQwEAb03A8v3K9a30gEIpi9XSgg==',\n",
       "       'QEVuQwEAt/HCXKWU8SRNwV3P5AbEgg==',\n",
       "       'QEVuQwEALtB/qtDrI1Oc4WuyMZ20qA==',\n",
       "       'QEVuQwEAJvUSWIAcc6ekqtQnW1p+xQ==',\n",
       "       'QEVuQwEAqA92CedIBsft4+CAz8PMtQ==',\n",
       "       'QEVuQwEACvDWtHIN1JCF/d/9zVi1AQ==',\n",
       "       'QEVuQwEAjJv1RYsQyv5iawRxjxJnEw==',\n",
       "       'QEVuQwEA5iwZ2eVh4Uth1F5DlVZhIw==',\n",
       "       'QEVuQwEA3ADEEVybupc4yVWcBm9EGA==',\n",
       "       'QEVuQwEAUBt8emhQ2BVDdol+w3lBrQ==',\n",
       "       'QEVuQwEAq+UeNEjgZBZKH3HMHpcH/A==',\n",
       "       'QEVuQwEAjQyli52JszCT8Jb+HSmVfQ==',\n",
       "       'QEVuQwEAAqBuhW39t7tmi9cCz5BHNw==',\n",
       "       'QEVuQwEAzE2zoYvGznjC32zvIz3xew==',\n",
       "       'QEVuQwEACR2sVERZagcoGSua+BlOLQ==',\n",
       "       'QEVuQwEArUcYSh2bxc9QAMRxjT7qwg==',\n",
       "       'QEVuQwEA02SoAGmOw9iNT/PYEd/wew==',\n",
       "       'QEVuQwEAuY/Hz651Khda+zBsISQqAQ==',\n",
       "       'QEVuQwEAXEeQ7oZAhqZITUNKrrikvQ==',\n",
       "       'QEVuQwEA6MJ4nQz+mDWya2PZo65X3w==',\n",
       "       'QEVuQwEATbTgNmRkBrIOoJMqbeZF0Q==',\n",
       "       'QEVuQwEAz9RWr2nY6GfQfjFx0sqmmA==',\n",
       "       'QEVuQwEAGHsMHjSOzPw2k/uesDKiPw==',\n",
       "       'QEVuQwEAg16Ws7+l5iePCfQ6FxDr+A==',\n",
       "       'QEVuQwEAL5pijpUVqlA6L4jFs/ZYKg==',\n",
       "       'QEVuQwEAAmEgYACgDQ7LinUYJ+gFlg==',\n",
       "       'QEVuQwEAa8CBC6myHVyBgIIHvzjFDg==',\n",
       "       'QEVuQwEAckdntNCQCwnqQpFkL/gl4A==',\n",
       "       'QEVuQwEAFk4pUIwR0Il2CMVFhx/MCA==',\n",
       "       'QEVuQwEAP/jjx0AHbEZm6mTCSBILKA==',\n",
       "       'QEVuQwEAl8a0YVAfUobOry0qejkiaQ==',\n",
       "       'QEVuQwEApHkISkN/jPA8gmweilAy6w==',\n",
       "       'QEVuQwEAGc6XlCzcf3ZPXSlX3qKiWg==',\n",
       "       'QEVuQwEAWGwn9g7tWIe5DIbS2NX2qQ==',\n",
       "       'QEVuQwEA0V+ECp5HnqRnHaoQxufTUw==',\n",
       "       'QEVuQwEA5h/URVBdpFLRUEljTtFD3A==',\n",
       "       'QEVuQwEAte6Y0jkVUv98dHuhWFMJXw==',\n",
       "       'QEVuQwEALDjtdnRwqsMYbQCFOEUpEg==',\n",
       "       'QEVuQwEAMFahlhqnHtZMnJR5/3pFJg==',\n",
       "       'QEVuQwEAzwcHX+hEx9BasxHm/3GipA==',\n",
       "       'QEVuQwEAVYEFbqIaEiVt+Q91WqNCXw==',\n",
       "       'QEVuQwEAfhNXONF/4EKx0FOmtCNLNg==',\n",
       "       'QEVuQwEA/q1UUWz5nPOE6AHTD818qg==',\n",
       "       'QEVuQwEA8UT0yoIULUBxjGfwqmLxbg==',\n",
       "       'QEVuQwEA7sZ1cXBLXxPPmmzns/huYw==',\n",
       "       'QEVuQwEAVaa7SCCq9wZKg//dpv5Xyw==',\n",
       "       'QEVuQwEAFfuwmf5USqHGVttZttuBCA==',\n",
       "       'QEVuQwEAMbqbjFeL4kGwax2Df99e1w==',\n",
       "       'QEVuQwEABpEipbUSlVD155jn1kO/fg==',\n",
       "       'QEVuQwEAWJQnRQgMtNjie9DBpt/3jA==',\n",
       "       'QEVuQwEAdr+1WOI0fII96ssItN90mg==',\n",
       "       'QEVuQwEAJxRXDhnKxE5KMLpVoYQSxQ==',\n",
       "       'QEVuQwEAgQg55fGe8oRSa4Z5noRGFw==',\n",
       "       'QEVuQwEA6wiF0nABe7r5SBoJMIJoiA==',\n",
       "       'QEVuQwEAIL5T59OzctS5sSRiggi99Q==',\n",
       "       'QEVuQwEAeytMPu8ZFMClDrX8earSyw=='], dtype=object)"
      ]
     },
     "execution_count": 35,
     "metadata": {},
     "output_type": "execute_result"
    }
   ],
   "source": [
    "df_with_treamnet"
   ]
  },
  {
   "cell_type": "code",
   "execution_count": 13,
   "metadata": {},
   "outputs": [
    {
     "name": "stdout",
     "output_type": "stream",
     "text": [
      "fludrocortisone\n",
      "fludricortisone\n",
      "fludrocort\n",
      "fludrocortisone 0.1mg\n"
     ]
    }
   ],
   "source": [
    "for name in df[ (df.trackable_type == 'Treatment') ].trackable_name.unique():\n",
    "    if 'fludr' in name.lower():\n",
    "        print(name)"
   ]
  },
  {
   "cell_type": "code",
   "execution_count": 40,
   "metadata": {},
   "outputs": [
    {
     "data": {
      "text/plain": [
       "array(['QEVuQwEAzZl+kJVQFj2hY5xrzOcbnA==',\n",
       "       'QEVuQwEAe5QH0aqmxPXcFoSbaB+mkw==',\n",
       "       'QEVuQwEAT556zzFRIWMYQwW/SuVuQg==', ...,\n",
       "       'QEVuQwEAfVS7sGFBq70NVn5XZYf7Sg==',\n",
       "       'QEVuQwEA6tVnDmhO0UaM0Fw/OMb7IQ==',\n",
       "       'QEVuQwEAUuGkJbPOl/k3sOZp+tkH8Q=='], dtype=object)"
      ]
     },
     "execution_count": 40,
     "metadata": {},
     "output_type": "execute_result"
    }
   ],
   "source": [
    "df[ (df.trackable_type == 'Symptom') & (df.trackable_name.str.contains('headache') ) ].user_id.unique()\n"
   ]
  },
  {
   "cell_type": "code",
   "execution_count": 39,
   "metadata": {},
   "outputs": [
    {
     "data": {
      "text/html": [
       "<div>\n",
       "<style scoped>\n",
       "    .dataframe tbody tr th:only-of-type {\n",
       "        vertical-align: middle;\n",
       "    }\n",
       "\n",
       "    .dataframe tbody tr th {\n",
       "        vertical-align: top;\n",
       "    }\n",
       "\n",
       "    .dataframe thead th {\n",
       "        text-align: right;\n",
       "    }\n",
       "</style>\n",
       "<table border=\"1\" class=\"dataframe\">\n",
       "  <thead>\n",
       "    <tr style=\"text-align: right;\">\n",
       "      <th></th>\n",
       "      <th>user_id</th>\n",
       "      <th>age</th>\n",
       "      <th>sex</th>\n",
       "      <th>country</th>\n",
       "      <th>checkin_date</th>\n",
       "      <th>trackable_id</th>\n",
       "      <th>trackable_type</th>\n",
       "      <th>trackable_name</th>\n",
       "      <th>trackable_value</th>\n",
       "      <th>month</th>\n",
       "    </tr>\n",
       "  </thead>\n",
       "  <tbody>\n",
       "    <tr>\n",
       "      <th>15</th>\n",
       "      <td>QEVuQwEA+WkNxtp/qkHvN2YmTBBDqg==</td>\n",
       "      <td>1.0</td>\n",
       "      <td>female</td>\n",
       "      <td>CA</td>\n",
       "      <td>2017-04-28</td>\n",
       "      <td>123</td>\n",
       "      <td>Symptom</td>\n",
       "      <td>joint stiffness</td>\n",
       "      <td>3</td>\n",
       "      <td>4</td>\n",
       "    </tr>\n",
       "    <tr>\n",
       "      <th>24</th>\n",
       "      <td>QEVuQwEAO+R1md5HUn8+w1Qpbg7ogw==</td>\n",
       "      <td>-1.0</td>\n",
       "      <td>NaN</td>\n",
       "      <td>NaN</td>\n",
       "      <td>2015-05-26</td>\n",
       "      <td>152</td>\n",
       "      <td>Symptom</td>\n",
       "      <td>nausea</td>\n",
       "      <td>1</td>\n",
       "      <td>5</td>\n",
       "    </tr>\n",
       "    <tr>\n",
       "      <th>31</th>\n",
       "      <td>QEVuQwEAO+R1md5HUn8+w1Qpbg7ogw==</td>\n",
       "      <td>-1.0</td>\n",
       "      <td>NaN</td>\n",
       "      <td>NaN</td>\n",
       "      <td>2015-06-14</td>\n",
       "      <td>152</td>\n",
       "      <td>Symptom</td>\n",
       "      <td>nausea</td>\n",
       "      <td>0</td>\n",
       "      <td>6</td>\n",
       "    </tr>\n",
       "    <tr>\n",
       "      <th>32</th>\n",
       "      <td>QEVuQwEAO+R1md5HUn8+w1Qpbg7ogw==</td>\n",
       "      <td>-1.0</td>\n",
       "      <td>NaN</td>\n",
       "      <td>NaN</td>\n",
       "      <td>2015-06-14</td>\n",
       "      <td>8</td>\n",
       "      <td>Symptom</td>\n",
       "      <td>anxiety</td>\n",
       "      <td>0</td>\n",
       "      <td>6</td>\n",
       "    </tr>\n",
       "    <tr>\n",
       "      <th>38</th>\n",
       "      <td>QEVuQwEAO+R1md5HUn8+w1Qpbg7ogw==</td>\n",
       "      <td>-1.0</td>\n",
       "      <td>NaN</td>\n",
       "      <td>NaN</td>\n",
       "      <td>2015-06-11</td>\n",
       "      <td>152</td>\n",
       "      <td>Symptom</td>\n",
       "      <td>nausea</td>\n",
       "      <td>0</td>\n",
       "      <td>6</td>\n",
       "    </tr>\n",
       "    <tr>\n",
       "      <th>...</th>\n",
       "      <td>...</td>\n",
       "      <td>...</td>\n",
       "      <td>...</td>\n",
       "      <td>...</td>\n",
       "      <td>...</td>\n",
       "      <td>...</td>\n",
       "      <td>...</td>\n",
       "      <td>...</td>\n",
       "      <td>...</td>\n",
       "      <td>...</td>\n",
       "    </tr>\n",
       "    <tr>\n",
       "      <th>3487600</th>\n",
       "      <td>QEVuQwEAk8TstQqKvjz8p2J6FAqOcA==</td>\n",
       "      <td>24.0</td>\n",
       "      <td>male</td>\n",
       "      <td>GB</td>\n",
       "      <td>2018-07-12</td>\n",
       "      <td>2564</td>\n",
       "      <td>Symptom</td>\n",
       "      <td>frequent bowel movements</td>\n",
       "      <td>2</td>\n",
       "      <td>7</td>\n",
       "    </tr>\n",
       "    <tr>\n",
       "      <th>3487616</th>\n",
       "      <td>QEVuQwEAUuGkJbPOl/k3sOZp+tkH8Q==</td>\n",
       "      <td>28.0</td>\n",
       "      <td>female</td>\n",
       "      <td>US</td>\n",
       "      <td>2018-07-12</td>\n",
       "      <td>273</td>\n",
       "      <td>Symptom</td>\n",
       "      <td>hives</td>\n",
       "      <td>4</td>\n",
       "      <td>7</td>\n",
       "    </tr>\n",
       "    <tr>\n",
       "      <th>3487617</th>\n",
       "      <td>QEVuQwEAUuGkJbPOl/k3sOZp+tkH8Q==</td>\n",
       "      <td>28.0</td>\n",
       "      <td>female</td>\n",
       "      <td>US</td>\n",
       "      <td>2018-07-12</td>\n",
       "      <td>829</td>\n",
       "      <td>Symptom</td>\n",
       "      <td>excessive daytime sleepiness</td>\n",
       "      <td>2</td>\n",
       "      <td>7</td>\n",
       "    </tr>\n",
       "    <tr>\n",
       "      <th>3487618</th>\n",
       "      <td>QEVuQwEAUuGkJbPOl/k3sOZp+tkH8Q==</td>\n",
       "      <td>28.0</td>\n",
       "      <td>female</td>\n",
       "      <td>US</td>\n",
       "      <td>2018-07-12</td>\n",
       "      <td>364</td>\n",
       "      <td>Symptom</td>\n",
       "      <td>headaches</td>\n",
       "      <td>3</td>\n",
       "      <td>7</td>\n",
       "    </tr>\n",
       "    <tr>\n",
       "      <th>3487619</th>\n",
       "      <td>QEVuQwEAUuGkJbPOl/k3sOZp+tkH8Q==</td>\n",
       "      <td>28.0</td>\n",
       "      <td>female</td>\n",
       "      <td>US</td>\n",
       "      <td>2018-07-12</td>\n",
       "      <td>45</td>\n",
       "      <td>Symptom</td>\n",
       "      <td>constipation</td>\n",
       "      <td>3</td>\n",
       "      <td>7</td>\n",
       "    </tr>\n",
       "  </tbody>\n",
       "</table>\n",
       "<p>1571134 rows × 10 columns</p>\n",
       "</div>"
      ],
      "text/plain": [
       "                                  user_id   age     sex country checkin_date  \\\n",
       "15       QEVuQwEA+WkNxtp/qkHvN2YmTBBDqg==   1.0  female      CA   2017-04-28   \n",
       "24       QEVuQwEAO+R1md5HUn8+w1Qpbg7ogw==  -1.0     NaN     NaN   2015-05-26   \n",
       "31       QEVuQwEAO+R1md5HUn8+w1Qpbg7ogw==  -1.0     NaN     NaN   2015-06-14   \n",
       "32       QEVuQwEAO+R1md5HUn8+w1Qpbg7ogw==  -1.0     NaN     NaN   2015-06-14   \n",
       "38       QEVuQwEAO+R1md5HUn8+w1Qpbg7ogw==  -1.0     NaN     NaN   2015-06-11   \n",
       "...                                   ...   ...     ...     ...          ...   \n",
       "3487600  QEVuQwEAk8TstQqKvjz8p2J6FAqOcA==  24.0    male      GB   2018-07-12   \n",
       "3487616  QEVuQwEAUuGkJbPOl/k3sOZp+tkH8Q==  28.0  female      US   2018-07-12   \n",
       "3487617  QEVuQwEAUuGkJbPOl/k3sOZp+tkH8Q==  28.0  female      US   2018-07-12   \n",
       "3487618  QEVuQwEAUuGkJbPOl/k3sOZp+tkH8Q==  28.0  female      US   2018-07-12   \n",
       "3487619  QEVuQwEAUuGkJbPOl/k3sOZp+tkH8Q==  28.0  female      US   2018-07-12   \n",
       "\n",
       "        trackable_id trackable_type                trackable_name  \\\n",
       "15               123        Symptom               joint stiffness   \n",
       "24               152        Symptom                        nausea   \n",
       "31               152        Symptom                        nausea   \n",
       "32                 8        Symptom                       anxiety   \n",
       "38               152        Symptom                        nausea   \n",
       "...              ...            ...                           ...   \n",
       "3487600         2564        Symptom      frequent bowel movements   \n",
       "3487616          273        Symptom                         hives   \n",
       "3487617          829        Symptom  excessive daytime sleepiness   \n",
       "3487618          364        Symptom                     headaches   \n",
       "3487619           45        Symptom                  constipation   \n",
       "\n",
       "        trackable_value  month  \n",
       "15                    3      4  \n",
       "24                    1      5  \n",
       "31                    0      6  \n",
       "32                    0      6  \n",
       "38                    0      6  \n",
       "...                 ...    ...  \n",
       "3487600               2      7  \n",
       "3487616               4      7  \n",
       "3487617               2      7  \n",
       "3487618               3      7  \n",
       "3487619               3      7  \n",
       "\n",
       "[1571134 rows x 10 columns]"
      ]
     },
     "execution_count": 39,
     "metadata": {},
     "output_type": "execute_result"
    }
   ],
   "source": [
    "df[ (df.trackable_type == 'Symptom') ]"
   ]
  },
  {
   "cell_type": "markdown",
   "metadata": {},
   "source": [
    "# Severity of the Disease"
   ]
  },
  {
   "cell_type": "code",
   "execution_count": 61,
   "metadata": {},
   "outputs": [
    {
     "data": {
      "text/plain": [
       "2    124228\n",
       "1    121074\n",
       "0    112098\n",
       "3     89921\n",
       "4     58140\n",
       "Name: trackable_value, dtype: int64"
      ]
     },
     "execution_count": 61,
     "metadata": {},
     "output_type": "execute_result"
    }
   ],
   "source": [
    "df_conds = df[ (df.trackable_type == 'Condition') ]\n",
    "df_conds.trackable_value = df_conds.trackable_value.map( lambda x: int(x)) \n",
    "df_conds.trackable_value.value_counts().()"
   ]
  },
  {
   "cell_type": "code",
   "execution_count": 63,
   "metadata": {},
   "outputs": [
    {
     "data": {
      "text/html": [
       "<div>\n",
       "<style scoped>\n",
       "    .dataframe tbody tr th:only-of-type {\n",
       "        vertical-align: middle;\n",
       "    }\n",
       "\n",
       "    .dataframe tbody tr th {\n",
       "        vertical-align: top;\n",
       "    }\n",
       "\n",
       "    .dataframe thead th {\n",
       "        text-align: right;\n",
       "    }\n",
       "</style>\n",
       "<table border=\"1\" class=\"dataframe\">\n",
       "  <thead>\n",
       "    <tr style=\"text-align: right;\">\n",
       "      <th></th>\n",
       "      <th>index</th>\n",
       "      <th>trackable_value</th>\n",
       "    </tr>\n",
       "  </thead>\n",
       "  <tbody>\n",
       "    <tr>\n",
       "      <th>0</th>\n",
       "      <td>2</td>\n",
       "      <td>124228</td>\n",
       "    </tr>\n",
       "    <tr>\n",
       "      <th>1</th>\n",
       "      <td>1</td>\n",
       "      <td>121074</td>\n",
       "    </tr>\n",
       "    <tr>\n",
       "      <th>2</th>\n",
       "      <td>0</td>\n",
       "      <td>112098</td>\n",
       "    </tr>\n",
       "    <tr>\n",
       "      <th>3</th>\n",
       "      <td>3</td>\n",
       "      <td>89921</td>\n",
       "    </tr>\n",
       "    <tr>\n",
       "      <th>4</th>\n",
       "      <td>4</td>\n",
       "      <td>58140</td>\n",
       "    </tr>\n",
       "  </tbody>\n",
       "</table>\n",
       "</div>"
      ],
      "text/plain": [
       "   index  trackable_value\n",
       "0      2           124228\n",
       "1      1           121074\n",
       "2      0           112098\n",
       "3      3            89921\n",
       "4      4            58140"
      ]
     },
     "execution_count": 63,
     "metadata": {},
     "output_type": "execute_result"
    }
   ],
   "source": [
    "df_conds.trackable_value.value_counts().reset_index()"
   ]
  },
  {
   "cell_type": "code",
   "execution_count": 68,
   "metadata": {},
   "outputs": [
    {
     "data": {
      "text/plain": [
       "Text(0.5, 1.0, 'Severity Count Plot')"
      ]
     },
     "execution_count": 68,
     "metadata": {},
     "output_type": "execute_result"
    },
    {
     "data": {
      "image/png": "[encoded data removed]",
      "text/plain": [
       "<Figure size 432x288 with 1 Axes>"
      ]
     },
     "metadata": {
      "needs_background": "light"
     },
     "output_type": "display_data"
    }
   ],
   "source": [
    "import seaborn as sn\n",
    "import matplotlib.pyplot as plt\n",
    "plot = sns.barplot(data = df_conds.trackable_value.value_counts().reset_index(), x ='index', y ='trackable_value' )\n",
    "plot.set(xlabel = \"Severity\", ylabel = \"Count\")\n",
    "plot.set_title(\"Severity Count Plot\")"
   ]
  },
  {
   "cell_type": "code",
   "execution_count": 70,
   "metadata": {},
   "outputs": [],
   "source": [
    "s_val_count = df_conds.trackable_value.value_counts().reset_index()\n",
    "s_low = s_val_count[s_val_count.index<2].sum()\n",
    "s_high = s_val_count[s_val_count.index>2].sum()\n",
    "s_medium = s_val_count[s_val_count.index<2].sum()"
   ]
  },
  {
   "cell_type": "code",
   "execution_count": 77,
   "metadata": {},
   "outputs": [
    {
     "name": "stdout",
     "output_type": "stream",
     "text": [
      "148061\n"
     ]
    }
   ],
   "source": [
    "print(s_high.trackable_value)"
   ]
  },
  {
   "cell_type": "code",
   "execution_count": 81,
   "metadata": {},
   "outputs": [
    {
     "data": {
      "image/png": "[encoded data removed]",
      "text/plain": [
       "<Figure size 432x288 with 1 Axes>"
      ]
     },
     "metadata": {},
     "output_type": "display_data"
    }
   ],
   "source": [
    "## plot \n",
    "import matplotlib.pyplot as plt\n",
    "# Pie chart\n",
    "labels = ['High', 'Medium', 'Low']\n",
    "sizes = [s_high.trackable_value, s_medium.trackable_value, s_low.trackable_value]\n",
    "#colors\n",
    "colors = ['#ff9999','#66b3ff','#99ff99']\n",
    " \n",
    "fig1, ax1 = plt.subplots()\n",
    "ax1.pie(sizes, colors = colors, labels=labels, autopct='%1.1f%%', startangle=90)\n",
    "#draw circle\n",
    "centre_circle = plt.Circle((0,0),0.70,fc='white')\n",
    "fig = plt.gcf()\n",
    "fig.gca().add_artist(centre_circle)\n",
    "# Equal aspect ratio ensures that pie is drawn as a circle\n",
    "ax1.axis('equal')  \n",
    "plt.tight_layout()\n",
    "plt.title(\"Severity Count Plot Grouped\")\n",
    "plt.show()\n"
   ]
  },
  {
   "cell_type": "code",
   "execution_count": null,
   "metadata": {},
   "outputs": [],
   "source": []
  }
 ],
 "metadata": {
  "kernelspec": {
   "display_name": "nlpproject",
   "language": "python",
   "name": "nlpproject"
  },
  "language_info": {
   "codemirror_mode": {
    "name": "ipython",
    "version": 3
   },
   "file_extension": ".py",
   "mimetype": "text/x-python",
   "name": "python",
   "nbconvert_exporter": "python",
   "pygments_lexer": "ipython3",
   "version": "3.8.0"
  }
 },
 "nbformat": 4,
 "nbformat_minor": 2
}
